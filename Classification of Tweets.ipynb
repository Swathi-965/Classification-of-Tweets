{
 "cells": [
  {
   "cell_type": "code",
   "execution_count": 1,
   "metadata": {
    "colab": {},
    "colab_type": "code",
    "id": "vogrCA5aYPtQ"
   },
   "outputs": [],
   "source": [
    "import numpy as np\n",
    "import pandas as pd\n",
    "%matplotlib inline\n",
    "import matplotlib.pyplot as plt\n",
    "import seaborn as sns\n",
    "import nltk\n",
    "import sklearn \n",
    "import string\n",
    "from IPython.display import display, Latex, Markdown"
   ]
  },
  {
   "cell_type": "markdown",
   "metadata": {
    "colab_type": "text",
    "id": "6PmFK0GgYPtU"
   },
   "source": [
    "# Classifying tweets\n",
    "\n",
    "In this problem, you will be analyzing Twitter data extracted using [this](https://dev.twitter.com/overview/api) api. The data contains tweets posted by the following six Twitter accounts: `realDonaldTrump, mike_pence, GOP, HillaryClinton, timkaine, TheDemocrats`\n",
    "\n",
    "For every tweet, there are two pieces of information:\n",
    "- `screen_name`: the Twitter handle of the user tweeting and\n",
    "- `text`: the content of the tweet.\n",
    "\n",
    "The tweets have been divided into two parts - train and test available to you in CSV files. For train, both the `screen_name` and `text` attributes were provided but for test, `screen_name` is hidden.\n",
    "\n",
    "The overarching goal of the problem is to \"predict\" the political inclination (Republican/Democratic) of the Twitter user from one of his/her tweets. The ground truth (i.e., true class labels) is determined from the `screen_name` of the tweet as follows\n",
    "- `realDonaldTrump, mike_pence, GOP` are Republicans\n",
    "- `HillaryClinton, timkaine, TheDemocrats` are Democrats\n",
    "\n",
    "Thus, this is a binary classification problem. \n",
    "\n",
    "The problem proceeds in three stages:\n",
    "- **Text processing (25%)**: We will clean up the raw tweet text using the various functions offered by the [nltk](http://www.nltk.org/genindex.html) package.\n",
    "- **Feature construction (25%)**: In this part, we will construct bag-of-words feature vectors and training labels from the processed text of tweets and the `screen_name` columns respectively.\n",
    "- **Classification (50%)**: Using the features derived, we will use [sklearn](http://scikit-learn.org/stable/modules/classes.html) package to learn a model which classifies the tweets as desired. \n",
    "\n",
    "You will use two new python packages in this problem: `nltk` and `sklearn`, both of which should be available with anaconda. However, NLTK comes with many corpora, toy grammars, trained models, etc, which have to be downloaded manually. This assignment requires NLTK's stopwords list and WordNetLemmatizer. Install them using:"
   ]
  },
  {
   "cell_type": "code",
   "execution_count": 2,
   "metadata": {
    "colab": {},
    "colab_type": "code",
    "id": "wQGjuhliYPtV"
   },
   "outputs": [
    {
     "name": "stderr",
     "output_type": "stream",
     "text": [
      "[nltk_data] Error loading stopwords: <urlopen error [WinError 10060] A\n",
      "[nltk_data]     connection attempt failed because the connected party\n",
      "[nltk_data]     did not properly respond after a period of time, or\n",
      "[nltk_data]     established connection failed because connected host\n",
      "[nltk_data]     has failed to respond>\n",
      "[nltk_data] Downloading package wordnet to\n",
      "[nltk_data]     C:\\Users\\bodav\\AppData\\Roaming\\nltk_data...\n",
      "[nltk_data]   Package wordnet is already up-to-date!\n"
     ]
    }
   ],
   "source": [
    "nltk.download('stopwords')\n",
    "nltk.download('wordnet')\n",
    "#nltk.download('punkt')\n",
    "#nltk.download('averaged_perceptron_tagger')\n",
    "# Verify that the following commands work for you, before moving on.\n",
    "\n",
    "lemmatizer=nltk.stem.wordnet.WordNetLemmatizer()\n",
    "stopwords=nltk.corpus.stopwords.words('english')"
   ]
  },
  {
   "cell_type": "markdown",
   "metadata": {
    "colab_type": "text",
    "id": "pTqEaBw9YPtZ"
   },
   "source": [
    "Let's begin!\n",
    "\n",
    "## A. Text Processing \n",
    "\n",
    "You first task to fill in the following function which processes and tokenizes raw text. The generated list of tokens should meet the following specifications:\n",
    "1. The tokens must all be in lower case.\n",
    "2. The tokens should appear in the same order as in the raw text.\n",
    "3. The tokens must be in their lemmatized form. If a word cannot be lemmatized (i.e, you get an exception), simply catch it and ignore it. These words will not appear in the token list.\n",
    "4. The tokens must not contain any punctuations. Punctuations should be handled as follows: (a) Apostrophe of the form `'s` must be ignored. e.g., `She's` becomes `she`. (b) Other apostrophes should be omitted. e.g, `don't` becomes `dont`. (c) Words must be broken at the hyphen and other punctuations. \n",
    "5. The tokens must not contain any part of a url.\n",
    "\n",
    "Part of your work is to figure out a logical order to carry out the above operations. You may find `string.punctuation` useful, to get hold of all punctuation symbols. Look for [regular expressions](https://docs.python.org/3/library/re.html) capturing urls in the text. Your tokens must be of type `str`. Use `nltk.word_tokenize()` for tokenization once you have handled punctuation in the manner specified above. \n",
    "\n",
    "You would want to take a look at the `lemmatize()` function [here](https://www.nltk.org/_modules/nltk/stem/wordnet.html).\n",
    "In order for `lemmatize()` to give you the root form for any word, you have to provide the context in which you want to lemmatize through the `pos` parameter: `lemmatizer.lemmatize(word, pos=SOMEVALUE)`. The context should be the part of speech (POS) for that word. The good news is you do not have to manually write out the lexical categories for each word because [nltk.pos_tag()](https://www.nltk.org/book/ch05.html) will do this for you. Now you just need to use the results from `pos_tag()` for the `pos` parameter.\n",
    "However, you can notice the POS tag returned from `pos_tag()` is in different format than the expected pos by `lemmatizer`.\n",
    "> pos\n",
    "(Syntactic category): n for noun files, v for verb files, a for adjective files, r for adverb files.\n",
    "\n",
    "You need to map these pos appropriately. `nltk.help.upenn_tagset()` provides description of each tag returned by `pos_tag()`.\n",
    "\n",
    "<img src=\"bikeshare.png\" width=\"100px\" align=\"left\" float=\"left\"/>\n",
    "<br><br><br>\n",
    " "
   ]
  },
  {
   "cell_type": "code",
   "execution_count": 3,
   "metadata": {
    "colab": {},
    "colab_type": "code",
    "id": "B5IMtsQoYPta"
   },
   "outputs": [],
   "source": [
    "from nltk.tokenize import word_tokenize\n",
    "import re\n",
    "def remove_punctuation(value):\n",
    "    result = \"\"\n",
    "    for c in value:\n",
    "        if c not in string.punctuation:\n",
    "            result += c\n",
    "        else:\n",
    "            result +=\" \"\n",
    "    return result\n",
    "def posMapping(s):\n",
    "    posMapping = {\"N\":'n',\n",
    "                  \"V\":'v',\n",
    "                  \"J\":'a',\n",
    "                  \"R\":'r'}\n",
    "    return posMapping.get(s,'n')\n",
    "def lem(oo):\n",
    "    lemmatized_output = [lemmatizer.lemmatize(oo)]\n",
    "    return lemmatized_output \n",
    "\n",
    "\"\"\"def get_wordnet_pos(word):\n",
    "    tag = nltk.pos_tag([word])[0][1][0].upper()\n",
    "    print(tag)\n",
    "    posMapping = {\"N\":'n',\n",
    "                  \"V\":'v',\n",
    "                  \"J\":'a',\n",
    "                  \"R\":'r'}\n",
    "    return posMapping.get(tag,'n')\"\"\"\n",
    "\n",
    "def process(text, lemmatizer=nltk.stem.wordnet.WordNetLemmatizer()):\n",
    "    \"\"\" Normalizes case and handles punctuation\n",
    "    Inputs:\n",
    "        text: str: raw text\n",
    "        lemmatizer: an instance of a class implementing the lemmatize() method\n",
    "                    (the default argument is of type nltk.stem.wordnet.WordNetLemmatizer)\n",
    "    Outputs:\n",
    "        list(str): tokenized text\n",
    "    \"\"\"\n",
    "    \n",
    "    text = text.replace(\"-\",\" \")\n",
    "    text = text.replace(\"'s\",\"\")\n",
    "    text = text.replace(\"'\",\"\")\n",
    "    #print(text)\n",
    "    url_pattern = r'((http|ftp|https):\\/\\/)?[\\w\\-_]+(\\.[\\w\\-_]+)+([\\w\\-\\.,@?^=%&amp;:/~\\+#]*[\\w\\-\\@?^=%&amp;/~\\+#])?'\n",
    "    #text_1 = re.sub(r'(https|http)?:\\/\\/(\\w|\\.|\\/|\\?|\\=|\\&|\\%)*\\b', '', text, flags=re.MULTILINE)\n",
    "    #text_1 = re.sub(r\"(http|https)\\S+\", \"\", text)\n",
    "    text_1 = re.sub(url_pattern, \"\", text)\n",
    "    input_str = text_1.lower()\n",
    "    x = remove_punctuation(input_str)\n",
    "    #print(text)\n",
    "    y = nltk.word_tokenize(x) \n",
    "    #print(y)\n",
    "    z = nltk.pos_tag(y)\n",
    "    #print(z)\n",
    "    e = []\n",
    "    for lis in z:\n",
    "        res = lis[1][0]\n",
    "#res = [lis[1][0] for lis in z] \n",
    "    #print(res)\n",
    "        s= posMapping(res)\n",
    "        e.append(s)\n",
    "    #print(e)\n",
    "    t = []\n",
    "    for i in range(len(y)):\n",
    "        p = lemmatizer.lemmatize(y[i],e[i])\n",
    "        t.append(p)\n",
    "    #print(p)\n",
    "    return t\n",
    "    \n",
    "    \"\"\"\"p = lemmatizer.lemmatize('played',get_wordnet_pos('played'))\n",
    "    #print(p)\n",
    "    lemmatized_output = [lemmatizer.lemmatize(w,get_wordnet_pos(w)) for w in y]\n",
    "    #print(get_wordnet_pos('played'))\n",
    "    #return lemmatized_output\"\"\"\n",
    "    "
   ]
  },
  {
   "cell_type": "markdown",
   "metadata": {
    "colab_type": "text",
    "id": "bspITcPiYPte"
   },
   "source": [
    "You can test the above function as follows. Try to make your test strings as exhaustive as possible. Some checks are:"
   ]
  },
  {
   "cell_type": "code",
   "execution_count": 4,
   "metadata": {
    "colab": {},
    "colab_type": "code",
    "id": "UrEzaolBYPtf"
   },
   "outputs": [
    {
     "name": "stdout",
     "output_type": "stream",
     "text": [
      "['im', 'do', 'well', 'how', 'about', 'you']\n",
      "['education', 'be', 'the', 'ability', 'to', 'listen', 'to', 'almost', 'anything', 'without', 'lose', 'your', 'temper', 'or', 'your', 'self', 'confidence']\n",
      "['be', 'have', 'do', 'language', 'city', 'mice']\n",
      "['it', 'hilarious', 'check', 'it', 'out']\n"
     ]
    }
   ],
   "source": [
    "print(process(\"I'm doing well! How about you?\"))\n",
    "# ['im', 'do', 'well', 'how', 'about', 'you']\n",
    "\n",
    "print(process(\"Education is the ability to listen to almost anything without losing your temper or your self-confidence.\"))\n",
    "# ['education', 'be', 'the', 'ability', 'to', 'listen', 'to', 'almost', 'anything', 'without', 'lose', 'your', 'temper', 'or', 'your', 'self', 'confidence']\n",
    "\n",
    "print(process(\"been had done languages cities mice\"))\n",
    "# ['be', 'have', 'do', 'language', 'city', 'mice']\n",
    "\n",
    "\n",
    "print(process(\"It's hilarious. Check it out https://t.co/dummyurl\"))\n",
    "# ['it', 'hilarious', 'check', 'it', 'out']"
   ]
  },
  {
   "cell_type": "markdown",
   "metadata": {
    "colab_type": "text",
    "id": "Ylcws_-LYPti"
   },
   "source": [
    "<img src=\"bikeshare.png\" width=\"100px\" align=\"left\" float=\"left\"/>\n",
    "<br><br><br> \n",
    "\n",
    "You will now use the `process()` function we implemented to convert the pandas dataframe we just loaded from tweets_train.csv file. Your function should be able to handle any data frame which contains a column called `text`. The data frame you return should replace every string in `text` with the result of `process()` and retain all other columns as such. Do not change the order of rows/columns. Before writing `process_all()`, load the data into a DataFrame and look at its format:"
   ]
  },
  {
   "cell_type": "code",
   "execution_count": 5,
   "metadata": {
    "colab": {},
    "colab_type": "code",
    "id": "aEONT9fXYPti"
   },
   "outputs": [
    {
     "name": "stdout",
     "output_type": "stream",
     "text": [
      "      screen_name                                               text\n",
      "0             GOP  RT @GOPconvention: #Oregon votes today. That m...\n",
      "1    TheDemocrats  RT @DWStweets: The choice for 2016 is clear: W...\n",
      "2  HillaryClinton  Trump's calling for trillion dollar tax cuts f...\n",
      "3  HillaryClinton  .@TimKaine's guiding principle: the belief tha...\n",
      "4        timkaine  Glad the Senate could pass a #THUD / MilCon / ...\n"
     ]
    }
   ],
   "source": [
    "tweets = pd.read_csv(\"tweets_train.csv\", na_filter=False)\n",
    "print(tweets.head())"
   ]
  },
  {
   "cell_type": "code",
   "execution_count": 6,
   "metadata": {
    "colab": {},
    "colab_type": "code",
    "id": "SM7hJBdOYPtl"
   },
   "outputs": [],
   "source": [
    "def process_all(df, lemmatizer=nltk.stem.wordnet.WordNetLemmatizer()):\n",
    "    \"\"\" process all text in the dataframe using process() function.\n",
    "    Inputs\n",
    "        df: pd.DataFrame: dataframe containing a column 'text' loaded from the CSV file\n",
    "        lemmatizer: an instance of a class implementing the lemmatize() method\n",
    "                    (the default argument is of type nltk.stem.wordnet.WordNetLemmatizer)\n",
    "    Outputs\n",
    "        pd.DataFrame: dataframe in which the values of text column have been changed from str to list(str),\n",
    "                        the output from process() function. Other columns are unaffected.\n",
    "    \"\"\"\n",
    "    #[YOUR CODE HERE]\n",
    "    df[\"text\"] = df[\"text\"].apply(lambda text : process(text))\n",
    "    return df\n",
    "    \n",
    "    \"\"\"out = []\n",
    "    text = df.iloc[:,1]\n",
    "    #print(text)\n",
    "    for i in text:\n",
    "        ans = process(i)\n",
    "        out.append(ans)\n",
    "        \n",
    "    y = df\n",
    "    y.drop(columns=['text'],inplace = True)\n",
    "    y['text'] = out\n",
    "    #print(tweets)\n",
    "    return y\"\"\""
   ]
  },
  {
   "cell_type": "code",
   "execution_count": 7,
   "metadata": {
    "colab": {},
    "colab_type": "code",
    "id": "lXQP6CAiYPto"
   },
   "outputs": [
    {
     "name": "stdout",
     "output_type": "stream",
     "text": [
      "      screen_name                                               text\n",
      "0             GOP  [rt, gopconvention, oregon, vote, today, that,...\n",
      "1    TheDemocrats  [rt, dwstweets, the, choice, for, 2016, be, cl...\n",
      "2  HillaryClinton  [trump, call, for, trillion, dollar, tax, cut,...\n",
      "3  HillaryClinton  [timkaine, guide, principle, the, belief, that...\n",
      "4        timkaine  [glad, the, senate, could, pass, a, thud, milc...\n"
     ]
    }
   ],
   "source": [
    "# test your code\n",
    "processed_tweets = process_all(tweets.copy())\n",
    "print(processed_tweets.head())\n",
    "\n",
    "#       screen_name                                               text\n",
    "# 0             GOP  [rt, gopconvention, oregon, vote, today, that,...\n",
    "# 1    TheDemocrats  [rt, dwstweets, the, choice, for, 2016, be, cl...\n",
    "# 2  HillaryClinton  [trump, call, for, trillion, dollar, tax, cut,...\n",
    "# 3  HillaryClinton  [timkaine, guide, principle, the, belief, that...\n",
    "# 4        timkaine  [glad, the, senate, could, pass, a, thud, milc..."
   ]
  },
  {
   "cell_type": "markdown",
   "metadata": {
    "colab_type": "text",
    "id": "qsBiunCIYPtr"
   },
   "source": [
    "## B. Feature Construction \n",
    "\n",
    "The next step is to derive feature vectors from the tokenized tweets. In this section, you will be constructing a bag-of-words TF-IDF feature vector. But before that, as you may have guessed, the number of possible words is prohibitively large and not all of them may be useful for our classification task. We need to determine which words to retain, and which to omit. A common heuristic is to construct a frequency distribution of words in the corpus and prune out the head and tail of the distribution. The intuition of the above operation is as follows. Very common words (i.e. stopwords) add almost no information regarding similarity of two pieces of text. Similarly with very rare words. NLTK has a list of in-built stop words which is a good substitute for head of the distribution. We will consider a word rare if it occurs only in a single document (row) in whole of `tweets_train.csv`. \n",
    "\n",
    "<img src=\"bikeshare.png\" width=\"100px\" align=\"left\" float=\"left\"/>\n",
    "<br><br><br> \n",
    "\n",
    "Construct a sparse matrix of features for each tweet with the help of `sklearn.feature_extraction.text.TfidfVectorizer` (documentation [here](https://scikit-learn.org/stable/modules/generated/sklearn.feature_extraction.text.TfidfVectorizer.html)). You need to pass a parameter `min_df=2` to filter out the words occuring only in one document in the whole training set. Remember to ignore the stop words as well. You must leave other optional parameters (e.g., `vocab`, `norm`, etc) at their default values. "
   ]
  },
  {
   "cell_type": "code",
   "execution_count": 8,
   "metadata": {
    "colab": {},
    "colab_type": "code",
    "id": "8NQ9wVm3YPt0"
   },
   "outputs": [],
   "source": [
    "from sklearn.feature_extraction.text import TfidfVectorizer\n",
    "def identity_tokenizer(text):\n",
    "    print(text)\n",
    "    return text\n",
    "def create_features(processed_tweets, stop_words):\n",
    "    \"\"\" creates the feature matrix using the processed tweet text\n",
    "    Inputs:\n",
    "        tweets: pd.DataFrame: tweets read from train/test csv file, containing the column 'text'\n",
    "        stop_words: list(str): stop_words by nltk stopwords\n",
    "    Outputs:\n",
    "        sklearn.feature_extraction.text.TfidfVectorizer: the TfidfVectorizer object used\n",
    "            we need this to tranform test tweets in the same way as train tweets\n",
    "        scipy.sparse.csr.csr_matrix: sparse bag-of-words TF-IDF feature matrix\n",
    "    \"\"\"\n",
    "    #[your code here\n",
    "    from nltk.corpus import stopwords\n",
    "    vectorizer = TfidfVectorizer(lowercase = False, stop_words=stop_words, min_df = 2,)\n",
    "    #vectorizer = TfidfVectorizer(lowercase = False, stop_words=stop_words,tokenizer = identity_tokenizer, min_df = 2,)\n",
    "    corpus = []\n",
    "    processed_tweets[\"text\"].apply(lambda text : corpus.append(text))\n",
    "    #print(corpus)\n",
    "    listoflists=corpus\n",
    "    corpus=[\" \".join(i) for i in listoflists]\n",
    "    #print(corpus)\n",
    "    Feature =vectorizer.fit_transform(corpus)\n",
    "    #Feature.toarray()\n",
    "    Y = vectorizer.get_feature_names()\n",
    "    #print(Y)\n",
    "    return(vectorizer,Feature)"
   ]
  },
  {
   "cell_type": "code",
   "execution_count": 9,
   "metadata": {
    "colab": {},
    "colab_type": "code",
    "id": "XXYtqEyvYPt4"
   },
   "outputs": [],
   "source": [
    "# execute this code \n",
    "(tfidf, X) = create_features(processed_tweets, stopwords)"
   ]
  },
  {
   "cell_type": "markdown",
   "metadata": {
    "colab_type": "text",
    "id": "5WQJih7SYPt6"
   },
   "source": [
    "<img src=\"bikeshare.png\" width=\"100px\" align=\"left\" float=\"left\"/>\n",
    "<br><br><br>\n",
    "\n",
    "\n",
    "Also for each tweet, assign a class label (0 or 1) using its `screen_name`. Use 0 for realDonaldTrump, mike_pence, GOP and 1 for the rest."
   ]
  },
  {
   "cell_type": "code",
   "execution_count": 10,
   "metadata": {
    "colab": {},
    "colab_type": "code",
    "id": "bLtDPaInYPt7"
   },
   "outputs": [],
   "source": [
    "from sklearn.preprocessing import LabelEncoder\n",
    "from sklearn.preprocessing import OneHotEncoder\n",
    "def class_labels(s):\n",
    "    if s == \"realDonaldTrump\" :\n",
    "        return 0\n",
    "    elif s == \"mike_pence\" :\n",
    "        return 0\n",
    "    elif s == \"GOP\":\n",
    "        return 0\n",
    "    else:\n",
    "        return 1\n",
    "\n",
    "def create_labels(processed_tweets):\n",
    "    \"\"\" creates the class labels from screen_name\n",
    "    Inputs:\n",
    "        tweets: pd.DataFrame: tweets read from train file, containing the column 'screen_name'\n",
    "    Outputs:\n",
    "        numpy.ndarray(int): dense binary numpy array of class labels\n",
    "    \"\"\"\n",
    "    processed_tweets = processed_tweets['screen_name'].apply(lambda screen_name: class_labels(screen_name))\n",
    "    #print(processed_tweets)\n",
    "    return np.array(processed_tweets,dtype = int)"
   ]
  },
  {
   "cell_type": "code",
   "execution_count": 11,
   "metadata": {
    "colab": {},
    "colab_type": "code",
    "id": "z49a4djKYPt-"
   },
   "outputs": [],
   "source": [
    "# execute this code\n",
    "y = create_labels(processed_tweets)"
   ]
  },
  {
   "cell_type": "markdown",
   "metadata": {
    "colab_type": "text",
    "id": "5STbtJYSYPuA"
   },
   "source": [
    "## C. Classification \n",
    "\n",
    "And finally, we are ready to put things together and learn a model for the classification of tweets. The classifier you will be using is [`sklearn.svm.SVC`](http://scikit-learn.org/stable/modules/generated/sklearn.svm.SVC.html#sklearn.svm.SVC) (Support Vector Machine). \n",
    "\n",
    "At the heart of SVMs is the concept of kernel functions, which determines how the similarity/distance between two data points in computed. `sklearn`'s SVM provides four kernel functions: `linear`, `poly`, `rbf`, `sigmoid` (details [here](http://scikit-learn.org/stable/modules/svm.html#svm-kernels)) but you can also implement your own distance function and pass it as an argument to the classifier.\n",
    "\n",
    "Through the various functions you implement in this part, you will be able to learn a classifier, score a classifier based on how well it performs, use it for prediction tasks and compare it to a baseline.\n",
    "\n",
    "Specifically, you will carry out the following tasks (Q5-9) in order:\n",
    "\n",
    "1. Implement and evaluate a simple baseline classifier MajorityLabelClassifier.\n",
    "2. Implement the `learn_classifier()` function assuming `kernel` is always one of {`linear`, `poly`, `rbf`, `sigmoid`}. \n",
    "3. Implement the `evaluate_classifier()` function which scores a classifier based on accuracy of a given dataset.\n",
    "4. Implement `best_model_selection()` to perform cross-validation by calling `learn_classifier()` and `evaluate_classifier()` for different folds and determine which of the four kernels performs the best.\n",
    "5. Go back to `learn_classifier()` and fill in the best kernel. \n",
    "\n",
    "<img src=\"bikeshare.png\" width=\"100px\" align=\"left\" float=\"left\"/>\n",
    "<br><br><br>\n",
    " \n",
    "\n",
    "To determine whether your classifier is performing well, you need to compare it to a baseline classifier. A baseline is generally a simple or trivial classifier and your classifier should beat the baseline in terms of a performance measure such as accuracy. Implement a classifier called `MajorityLabelClassifier` that always predicts the class equal to **mode** of the labels (i.e., the most frequent label) in training data. Part of the code is done for you. Implement the `fit` and `predict` methods. Initialize your classifier appropriately."
   ]
  },
  {
   "cell_type": "code",
   "execution_count": 12,
   "metadata": {
    "colab": {},
    "colab_type": "code",
    "id": "xUBpZ6_NYPuB"
   },
   "outputs": [
    {
     "name": "stdout",
     "output_type": "stream",
     "text": [
      "0.5001734304543878\n"
     ]
    }
   ],
   "source": [
    "from scipy import stats\n",
    "from scipy.sparse import csr_matrix\n",
    "class MajorityLabelClassifier():\n",
    "  \"\"\"\n",
    "  A classifier that predicts the mode of training labels\n",
    "  \"\"\"\n",
    "  def __init__(self):\n",
    "    \"\"\"\n",
    "    Initialize\n",
    "    \"\"\"\n",
    "    #[YOUR CODE HERE]\n",
    "    self.mode = 0\n",
    "  \n",
    "  def fit(self, X, y):\n",
    "        \n",
    "        \n",
    "        \"\"\"\n",
    "         Implement fit by taking training data X and their labels y and finding the mode of y\n",
    "        \"\"\"\n",
    "        #[YOUR CODE HERE]\n",
    "        first_label = 0\n",
    "        second_label = 0\n",
    "        v1 = y[0]\n",
    "        v2 = None\n",
    "        for i in y:\n",
    "            if i != v1:\n",
    "                v2 = i\n",
    "                break\n",
    "        for i in y:\n",
    "            if i == v1:\n",
    "                first_label+=1\n",
    "            else:\n",
    "                second_label+=1\n",
    "                \n",
    "        if first_label>second_label:\n",
    "            self.mode = v1\n",
    "        else:\n",
    "            self.mode = v2\n",
    "        \n",
    "    \n",
    "  def predict(self, X):\n",
    "    \n",
    "    \"\"\"\n",
    "    Implement to give the mode of training labels as a prediction for each data instance in X\n",
    "    return labels\n",
    "    \"\"\"\n",
    "    #[YOUR CODE HERE]\n",
    "    result = []\n",
    "    for j in X:\n",
    "        result.append(self.mode)\n",
    "    return result\n",
    "\n",
    "    \n",
    "\n",
    "\n",
    "# Report the accuracy of your classifier by comparing the predicted label of each example to its true label\n",
    "#[YOUR CODE HERE]\n",
    "count = 0\n",
    "from sklearn.metrics import accuracy_score\n",
    "X1 =  [i for i in processed_tweets['text']]\n",
    "Base_Line_Classifier = MajorityLabelClassifier()\n",
    "Base_Line_Classifier.fit(X1,y)\n",
    "predicted_labels = Base_Line_Classifier.predict(X1)\n",
    "for j in range(y.size):\n",
    "    if y[j] == predicted_labels[j]:\n",
    "        count+=1\n",
    "print(count/y.size)\n",
    "# training accuracy = 0.500173"
   ]
  },
  {
   "cell_type": "markdown",
   "metadata": {
    "colab_type": "text",
    "id": "MZldwD1JYPuD"
   },
   "source": [
    "<img src=\"bikeshare.png\" width=\"100px\" align=\"left\" float=\"left\"/>\n",
    "<br><br><br>\n",
    "\n",
    "\n",
    "\n",
    "Implement the `learn_classifier()` function assuming `kernel` is always one of {`linear`, `poly`, `rbf`, `sigmoid`}. Stick to default values for any other optional parameters."
   ]
  },
  {
   "cell_type": "code",
   "execution_count": 13,
   "metadata": {
    "colab": {},
    "colab_type": "code",
    "id": "WGpfOK2EYPuD"
   },
   "outputs": [],
   "source": [
    "def learn_classifier(X_train, y_train, kernel):\n",
    "    \"\"\" learns a classifier from the input features and labels using the kernel function supplied\n",
    "    Inputs:\n",
    "        X_train: scipy.sparse.csr.csr_matrix: sparse matrix of features, output of create_features()\n",
    "        y_train: numpy.ndarray(int): dense binary vector of class labels, output of create_labels()\n",
    "        kernel: str: kernel function to be used with classifier. [linear|poly|rbf|sigmoid]\n",
    "    Outputs:\n",
    "        sklearn.svm.classes.SVC: classifier learnt from data\n",
    "    \"\"\"\n",
    "    \n",
    "    #[YOUR CODE HERE]\n",
    "    from sklearn import svm\n",
    "    from sklearn.svm import SVC\n",
    "    clf = svm.SVC(kernel = kernel,gamma='scale')\n",
    "    return clf.fit(X_train,y_train)"
   ]
  },
  {
   "cell_type": "code",
   "execution_count": 14,
   "metadata": {
    "colab": {},
    "colab_type": "code",
    "id": "iOwIKVuvYPuF"
   },
   "outputs": [],
   "source": [
    "# execute code\n",
    "classifier = learn_classifier(X, y, 'linear')\n",
    "#classifier"
   ]
  },
  {
   "cell_type": "markdown",
   "metadata": {
    "colab_type": "text",
    "id": "PDsVwZuNYPuK"
   },
   "source": [
    "<img src=\"bikeshare.png\" width=\"100px\" align=\"left\" float=\"left\"/>\n",
    "<br><br><br>\n",
    " \n",
    "\n",
    "Now that we know how to learn a classifier, the next step is to evaluate it, ie., characterize how good its classification performance is. This step is necessary to select the best model among a given set of models, or even tune hyperparameters for a given model.\n",
    "\n",
    "There are two questions that should now come to your mind:\n",
    "1. **What data to use?** \n",
    "    - **Validation Data**: The data used to evaluate a classifier is called **validation data** (or hold-out data), and it is usually different from the data used for training. The model or hyperparameter with the best performance in the held out data is chosen. This approach is relatively fast and simple but vulnerable to biases found in validation set.\n",
    "    - **Cross-validation**: This approach divides the dataset in $k$ groups (so, called k-fold cross-validation). One of group is used as test set for evaluation and other groups as training set. The model or hyperparameter with the best average performance across all k folds is chosen. For this question you will perform 4-fold cross validation to determine the best kernel. We will keep all other hyperparameters default for now. This approach provides robustness toward biasness in validation set. However, it takes more time.\n",
    "    \n",
    "2. **And what metric?** There are several evaluation measures available in the literature (e.g., accuracy, precision, recall, F-1,etc) and different fields have different preferences for specific metrics due to different goals. We will go with accuracy. According to wiki, **accuracy** of a classifier measures the fraction of all data points that are correctly classified by it; it is the ratio of the number of correct classifications to the total number of (correct and incorrect) classifications. `sklearn.metrics` provides a number of performance metrics.\n",
    "\n",
    "Now, implement the following function."
   ]
  },
  {
   "cell_type": "code",
   "execution_count": 15,
   "metadata": {
    "colab": {},
    "colab_type": "code",
    "id": "tvLsjxqKYPuL"
   },
   "outputs": [],
   "source": [
    "from sklearn.metrics import accuracy_score\n",
    "def evaluate_classifier(classifier, X_validation, y_validation):\n",
    "    \"\"\" evaluates a classifier based on a supplied validation data\n",
    "    Inputs:\n",
    "        classifier: sklearn.svm.classes.SVC: classifer to evaluate\n",
    "        X_train: scipy.sparse.csr.csr_matrix: sparse matrix of features\n",
    "        y_train: numpy.ndarray(int): dense binary vector of class labels\n",
    "    Outputs:\n",
    "        double: accuracy of classifier on the validation data\n",
    "    \"\"\"\n",
    "    #[YOUR CODE HERE]\n",
    "    \"\"\"from sklearn.model_selection import cross_validate\n",
    "    from sklearn.metrics import accuracy_score\n",
    "    scores = cross_validate(classifier, X_validation, y_validation, cv=4,scoring = 'accuracy')\n",
    "    return scores\"\"\"\n",
    "    predicted_values = classifier.predict(X_validation)\n",
    "    actual_values = y_validation\n",
    "    return(accuracy_score(predicted_values,actual_values))"
   ]
  },
  {
   "cell_type": "code",
   "execution_count": 16,
   "metadata": {
    "colab": {},
    "colab_type": "code",
    "id": "pmdMkFIzYPuN"
   },
   "outputs": [
    {
     "name": "stdout",
     "output_type": "stream",
     "text": [
      "0.9520753844375073\n"
     ]
    }
   ],
   "source": [
    "# test your code by evaluating the accuracy on the training data\n",
    "accuracy = evaluate_classifier(classifier, X, y)\n",
    "print(accuracy) \n",
    "# should give 0.956700196554515"
   ]
  },
  {
   "cell_type": "markdown",
   "metadata": {
    "colab_type": "text",
    "id": "bYYIADjZYPuP"
   },
   "source": [
    "<img src=\"bikeshare.png\" width=\"100px\" align=\"left\" float=\"left\"/>\n",
    "<br><br><br>\n",
    " \n",
    "\n",
    "Now it is time to decide which kernel works best by using the cross-validation technique. Write code to split the training data into 4-folds (75% training and 25% validation) by shuffling randomly. For each kernel, record the average accuracy for all folds and determine the best classifier. Since our dataset is balanced (both classes are in almost equal propertion), `sklearn.model_selection.KFold` [doc](https://scikit-learn.org/stable/modules/generated/sklearn.model_selection.KFold.html) can be used for cross-validation."
   ]
  },
  {
   "cell_type": "code",
   "execution_count": 17,
   "metadata": {
    "colab": {},
    "colab_type": "code",
    "id": "nq5AlMoUYPuQ"
   },
   "outputs": [],
   "source": [
    "kf = sklearn.model_selection.KFold(n_splits=4, random_state=1, shuffle=True,)\n",
    "#kf\n",
    "#print(tfidf)"
   ]
  },
  {
   "cell_type": "markdown",
   "metadata": {
    "colab_type": "text",
    "id": "Og6hzUPPYPuT"
   },
   "source": [
    "Then use the following code to determine which classifier is the best. "
   ]
  },
  {
   "cell_type": "code",
   "execution_count": 18,
   "metadata": {
    "colab": {},
    "colab_type": "code",
    "id": "oJAjQyNKYPuT"
   },
   "outputs": [],
   "source": [
    "from statistics import mean\n",
    "def best_model_selection(kf, X, y):\n",
    "    \"\"\"\n",
    "      Select the kernel giving best results using k-fold cross-validation.\n",
    "      Other parameters should be left default.\n",
    "      Input:\n",
    "        kf (sklearn.model_selection.KFold): kf object defined above\n",
    "        X (scipy.sparse.csr.csr_matrix): training data\n",
    "        y (array(int)): training labels\n",
    "      Return:\n",
    "        best_kernel (string)\n",
    "    \"\"\"\n",
    "      #[YOUR CODE HERE]\n",
    "    #best_model = []\n",
    "    actual_list = []\n",
    "    for kernel in ['linear', 'rbf', 'poly', 'sigmoid']:\n",
    "        list = []\n",
    "    #[YOUR CODE HERE] \n",
    "    # Use the documentation of KFold cross-validation to split ..\n",
    "    # training data and test data from create_features() and create_labels()\n",
    "    # call learn_classifer() using training split of kth fold\n",
    "    # evaluate on the test split of kth fold\n",
    "    # record avg accuracies and determine best model (kernel)\n",
    "    #return best kernel as string\n",
    "        for train_index, test_index in kf.split(X):\n",
    "            #print(\"TRAIN:\", train_index, \"TEST:\", test_index)\n",
    "            X_train, X_test = X[train_index], X[test_index]\n",
    "            y_train, y_test = y[train_index], y[test_index]\n",
    "            classifier_1 = learn_classifier(X_train, y_train, kernel)\n",
    "            accuracy_1 = evaluate_classifier(classifier_1, X_test, y_test)\n",
    "            list.append(accuracy_1)\n",
    "        actual_list.append((kernel,mean(list)))\n",
    "    #print(actual_list)\n",
    "    z = max(actual_list,key = lambda x:x[1])[0]\n",
    "    #print(z)\n",
    "    return(z)  \n",
    "#Test your code\n",
    "best_kernel = best_model_selection(kf, X, y)\n",
    "#best_kernel"
   ]
  },
  {
   "cell_type": "markdown",
   "metadata": {
    "colab_type": "text",
    "id": "Yho_UYX7YPuX"
   },
   "source": [
    "<img src=\"bikeshare.png\" width=\"100px\" align=\"left\" float=\"left\"/>\n",
    "<br><br>  \n",
    "\n",
    "We're almost done! It's time to write a nice little wrapper function that will use our model to classify unlabeled tweets from tweets_test.csv file. "
   ]
  },
  {
   "cell_type": "code",
   "execution_count": 19,
   "metadata": {
    "colab": {},
    "colab_type": "code",
    "id": "qth7DPekYPuY"
   },
   "outputs": [],
   "source": [
    "def classify_tweets(tfidf, classifier, unlabeled_tweets):\n",
    "    \"\"\" predicts class labels for raw tweet text\n",
    "    Inputs:\n",
    "        tfidf: sklearn.feature_extraction.text.TfidfVectorizer: the TfidfVectorizer object used on training data\n",
    "        classifier: sklearn.svm.classes.SVC: classifier learnt\n",
    "        unlabeled_tweets: pd.DataFrame: tweets read from tweets_test.csv\n",
    "    Outputs:\n",
    "        numpy.ndarray(int): dense binary vector of class labels for unlabeled tweets\n",
    "    \"\"\"\n",
    "    #[YOUR CODE HERE]\n",
    "    processed_tweets_1 = process_all(unlabeled_tweets)\n",
    "    corpus_1 = []\n",
    "    processed_tweets_1[\"text\"].apply(lambda text : corpus_1.append(text))\n",
    "    #print(corpus)\n",
    "    listoflists=corpus_1\n",
    "    corpus_1 = [\" \".join(i) for i in listoflists]\n",
    "    Feature = tfidf.transform(corpus_1)\n",
    "    predicted_values_1 = classifier.predict(Feature)\n",
    "    return predicted_values_1\n",
    "    "
   ]
  },
  {
   "cell_type": "code",
   "execution_count": 20,
   "metadata": {
    "colab": {},
    "colab_type": "code",
    "id": "KKNMwVVgYPua"
   },
   "outputs": [],
   "source": [
    "# Fill in best classifier in your function and re-trian your classifier using all training data\n",
    "# Get predictions for unlabelled test data\n",
    "classifier = learn_classifier(X, y, best_kernel)\n",
    "unlabeled_tweets = pd.read_csv(\"tweets_test.csv\", na_filter=False)\n",
    "y_pred = classify_tweets(tfidf, classifier, unlabeled_tweets)"
   ]
  },
  {
   "cell_type": "markdown",
   "metadata": {
    "colab_type": "text",
    "id": "oeuZhVR2OhyV"
   },
   "source": [
    "SVM classifier performs better than the baseline classifier, because the accuracy of baseline classifier is 50% approximately, however the accuracy of SVM classifier is 95.6%.\n",
    "\n",
    "In baseline classifier if we give inputs of different values, we are predicting the same output for every input which is mode, but this is not the case with the SVM classifier.  "
   ]
  }
 ],
 "metadata": {
  "colab": {
   "collapsed_sections": [],
   "name": "hw3.ipynb",
   "provenance": []
  },
  "kernelspec": {
   "display_name": "Python 3",
   "language": "python",
   "name": "python3"
  },
  "language_info": {
   "codemirror_mode": {
    "name": "ipython",
    "version": 3
   },
   "file_extension": ".py",
   "mimetype": "text/x-python",
   "name": "python",
   "nbconvert_exporter": "python",
   "pygments_lexer": "ipython3",
   "version": "3.7.4"
  }
 },
 "nbformat": 4,
 "nbformat_minor": 1
}
